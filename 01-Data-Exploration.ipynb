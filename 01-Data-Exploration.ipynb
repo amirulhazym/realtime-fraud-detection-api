{
 "cells": [
  {
   "cell_type": "code",
   "execution_count": 1,
   "id": "c6bbe082-1614-4dac-997c-5cbb3ac3321e",
   "metadata": {},
   "outputs": [
    {
     "name": "stdout",
     "output_type": "stream",
     "text": [
      "Attempting to load full dataset from: hf://datasets/MatrixIA/FraudData/FraudData.csv\n",
      "Successfully loaded full dataset into Pandas DataFrame.\n",
      "Full DataFrame shape: (6362620, 11)\n",
      "Creating a sample of 1000000 rows for initial development...\n",
      "Sample DataFrame shape: (1000000, 11)\n",
      "\n",
      "First 5 rows (from sample):\n",
      "   step      type    amount     nameOrig  oldbalanceOrg  newbalanceOrig  \\\n",
      "0     1   PAYMENT   9839.64  C1231006815       170136.0       160296.36   \n",
      "1     1   PAYMENT   1864.28  C1666544295        21249.0        19384.72   \n",
      "2     1  TRANSFER    181.00  C1305486145          181.0            0.00   \n",
      "3     1  CASH_OUT    181.00   C840083671          181.0            0.00   \n",
      "4     1   PAYMENT  11668.14  C2048537720        41554.0        29885.86   \n",
      "\n",
      "      nameDest  oldbalanceDest  newbalanceDest  isFraud  isFlaggedFraud  \n",
      "0  M1979787155             0.0             0.0        0               0  \n",
      "1  M2044282225             0.0             0.0        0               0  \n",
      "2   C553264065             0.0             0.0        1               0  \n",
      "3    C38997010         21182.0             0.0        1               0  \n",
      "4  M1230701703             0.0             0.0        0               0  \n",
      "\n",
      "DataFrame Info (from sample):\n",
      "<class 'pandas.core.frame.DataFrame'>\n",
      "RangeIndex: 1000000 entries, 0 to 999999\n",
      "Data columns (total 11 columns):\n",
      " #   Column          Non-Null Count    Dtype  \n",
      "---  ------          --------------    -----  \n",
      " 0   step            1000000 non-null  int64  \n",
      " 1   type            1000000 non-null  object \n",
      " 2   amount          1000000 non-null  float64\n",
      " 3   nameOrig        1000000 non-null  object \n",
      " 4   oldbalanceOrg   1000000 non-null  float64\n",
      " 5   newbalanceOrig  1000000 non-null  float64\n",
      " 6   nameDest        1000000 non-null  object \n",
      " 7   oldbalanceDest  1000000 non-null  float64\n",
      " 8   newbalanceDest  1000000 non-null  float64\n",
      " 9   isFraud         1000000 non-null  int64  \n",
      " 10  isFlaggedFraud  1000000 non-null  int64  \n",
      "dtypes: float64(5), int64(3), object(3)\n",
      "memory usage: 83.9+ MB\n",
      "\n",
      "Summary Statistics (from sample):\n",
      "                 step        amount  oldbalanceOrg  newbalanceOrig  \\\n",
      "count  1000000.000000  1.000000e+06   1.000000e+06    1.000000e+06   \n",
      "mean        25.156387  1.602499e+05   8.776703e+05    8.983465e+05   \n",
      "std         12.652100  2.592584e+05   2.982420e+06    3.019326e+06   \n",
      "min          1.000000  1.000000e-01   0.000000e+00    0.000000e+00   \n",
      "25%         14.000000  1.275993e+04   0.000000e+00    0.000000e+00   \n",
      "50%         20.000000  7.953670e+04   1.595700e+04    0.000000e+00   \n",
      "75%         38.000000  2.166060e+05   1.397520e+05    1.797911e+05   \n",
      "max         45.000000  1.000000e+07   3.893942e+07    3.894623e+07   \n",
      "\n",
      "       oldbalanceDest  newbalanceDest         isFraud  isFlaggedFraud  \n",
      "count    1.000000e+06    1.000000e+06  1000000.000000       1000000.0  \n",
      "mean     9.860668e+05    1.125662e+06        0.000535             0.0  \n",
      "std      2.305423e+06    2.426587e+06        0.023124             0.0  \n",
      "min      0.000000e+00    0.000000e+00        0.000000             0.0  \n",
      "25%      0.000000e+00    0.000000e+00        0.000000             0.0  \n",
      "50%      1.349287e+05    2.301105e+05        0.000000             0.0  \n",
      "75%      9.268256e+05    1.167926e+06        0.000000             0.0  \n",
      "max      4.205466e+07    4.216916e+07        1.000000             0.0  \n",
      "\n",
      "Missing Values Count per Column (from sample):\n",
      "step              0\n",
      "type              0\n",
      "amount            0\n",
      "nameOrig          0\n",
      "oldbalanceOrg     0\n",
      "newbalanceOrig    0\n",
      "nameDest          0\n",
      "oldbalanceDest    0\n",
      "newbalanceDest    0\n",
      "isFraud           0\n",
      "isFlaggedFraud    0\n",
      "dtype: int64\n",
      "\n",
      "Class Distribution for Target Column ('isFraud') in Sample:\n",
      "isFraud\n",
      "0    0.999465\n",
      "1    0.000535\n",
      "Name: proportion, dtype: float64\n",
      "\n",
      "Raw Counts in Sample:\n",
      "isFraud\n",
      "0    999465\n",
      "1       535\n",
      "Name: count, dtype: int64\n"
     ]
    }
   ],
   "source": [
    "import pandas as pd\n",
    "import numpy as np\n",
    "\n",
    "# Define the special Hugging Face URL for the CSV file\n",
    "# This tells pandas to use fsspec and huggingface_hub to find and read the file\n",
    "hf_csv_url = \"hf://datasets/MatrixIA/FraudData/FraudData.csv\"\n",
    "\n",
    "print(f\"Attempting to load full dataset from: {hf_csv_url}\")\n",
    "try:\n",
    "    # Use pandas read_csv directly with the hf:// URL\n",
    "    # This loads the entire dataset into memory. May take a minute or two.\n",
    "    df_full = pd.read_csv(hf_csv_url)\n",
    "    print(\"Successfully loaded full dataset into Pandas DataFrame.\")\n",
    "    print(f\"Full DataFrame shape: {df_full.shape}\")\n",
    "\n",
    "    # --- IMPORTANT: Create a Sample for Development ---\n",
    "    # Define sample size (e.g., 1 million rows)\n",
    "    sample_size = 1000000\n",
    "    print(f\"Creating a sample of {sample_size} rows for initial development...\")\n",
    "\n",
    "    # Option 1: Take the first N rows (simplest)\n",
    "    df = df_full.head(sample_size).copy()\n",
    "\n",
    "    # Option 2: Take a random sample (better representation, might be slightly slower)\n",
    "    # df = df_full.sample(n=sample_size, random_state=42).copy()\n",
    "\n",
    "    print(f\"Sample DataFrame shape: {df.shape}\")\n",
    "\n",
    "    # Optional: Delete the full dataframe to free memory if you notice slowdowns\n",
    "    # Although with 24GB RAM, it might not be necessary yet.\n",
    "    # del df_full\n",
    "    # import gc # Garbage collector\n",
    "    # gc.collect() # Force memory cleanup\n",
    "\n",
    "except Exception as e:\n",
    "    # Catch potential errors during download or reading\n",
    "    print(f\"ERROR: Failed to load dataset using pd.read_csv('hf://...'). Error: {e}\")\n",
    "    print(\"Check your internet connection, proxy settings (if any), and the URL.\")\n",
    "    raise # Stop execution\n",
    "\n",
    "# --- Basic Inspection (Run on the SAMPLE 'df') ---\n",
    "# This part remains the same as before, using the 'df' variable which now holds the sample\n",
    "print(\"\\nFirst 5 rows (from sample):\")\n",
    "print(df.head())\n",
    "\n",
    "print(\"\\nDataFrame Info (from sample):\")\n",
    "df.info()\n",
    "\n",
    "print(\"\\nSummary Statistics (from sample):\")\n",
    "print(df.describe())\n",
    "\n",
    "print(\"\\nMissing Values Count per Column (from sample):\")\n",
    "print(df.isnull().sum())\n",
    "\n",
    "# --- Target Variable Check (Run on the SAMPLE 'df') ---\n",
    "# Target column is 'isFraud' for this dataset (PaySim)\n",
    "target_column = 'isFraud'\n",
    "\n",
    "if target_column in df.columns:\n",
    "    print(f\"\\nClass Distribution for Target Column ('{target_column}') in Sample:\")\n",
    "    print(df[target_column].value_counts(normalize=True))\n",
    "    print(\"\\nRaw Counts in Sample:\")\n",
    "    print(df[target_column].value_counts(normalize=False))\n",
    "else:\n",
    "    print(f\"\\nERROR: Target column '{target_column}' not found in the DataFrame!\")\n",
    "    print(f\"Available columns are: {list(df.columns)}\")"
   ]
  },
  {
   "cell_type": "code",
   "execution_count": 2,
   "id": "7f27c075-4799-4c72-927f-9f182e208fd2",
   "metadata": {},
   "outputs": [
    {
     "data": {
      "text/html": [
       "\n",
       "            <div>\n",
       "                <ins><a href=\"https://ydata.ai/register\">Upgrade to ydata-sdk</a></ins>\n",
       "                <p>\n",
       "                    Improve your data and profiling with ydata-sdk, featuring data quality scoring, redundancy detection, outlier identification, text validation, and synthetic data generation.\n",
       "                </p>\n",
       "            </div>\n",
       "            "
      ],
      "text/plain": [
       "<IPython.core.display.HTML object>"
      ]
     },
     "metadata": {},
     "output_type": "display_data"
    },
    {
     "name": "stdout",
     "output_type": "stream",
     "text": [
      "\n",
      "Generating data profiling report on the SAMPLE... (This might take a minute or two)\n"
     ]
    },
    {
     "data": {
      "application/vnd.jupyter.widget-view+json": {
       "model_id": "903975eed6d244a6a6f883ff33081da9",
       "version_major": 2,
       "version_minor": 0
      },
      "text/plain": [
       "Summarize dataset:   0%|          | 0/5 [00:00<?, ?it/s]"
      ]
     },
     "metadata": {},
     "output_type": "display_data"
    },
    {
     "name": "stderr",
     "output_type": "stream",
     "text": [
      "\n",
      "  0%|                                                         | 0/11 [00:00<?, ?it/s]\u001b[A\n",
      "  9%|████▍                                            | 1/11 [00:01<00:19,  1.96s/it]\u001b[A\n",
      " 27%|█████████████▎                                   | 3/11 [00:07<00:19,  2.42s/it]\u001b[A\n",
      "100%|████████████████████████████████████████████████| 11/11 [00:09<00:00,  1.12it/s]\u001b[A\n"
     ]
    },
    {
     "data": {
      "application/vnd.jupyter.widget-view+json": {
       "model_id": "f82cd4e745354706a45801cd350f3598",
       "version_major": 2,
       "version_minor": 0
      },
      "text/plain": [
       "Generate report structure:   0%|          | 0/1 [00:00<?, ?it/s]"
      ]
     },
     "metadata": {},
     "output_type": "display_data"
    },
    {
     "data": {
      "application/vnd.jupyter.widget-view+json": {
       "model_id": "177a9d11a9bd44b8809ad744acfc9e9d",
       "version_major": 2,
       "version_minor": 0
      },
      "text/plain": [
       "Render HTML:   0%|          | 0/1 [00:00<?, ?it/s]"
      ]
     },
     "metadata": {},
     "output_type": "display_data"
    },
    {
     "data": {
      "application/vnd.jupyter.widget-view+json": {
       "model_id": "66a889659c3e4c658759f34001af5849",
       "version_major": 2,
       "version_minor": 0
      },
      "text/plain": [
       "Export report to file:   0%|          | 0/1 [00:00<?, ?it/s]"
      ]
     },
     "metadata": {},
     "output_type": "display_data"
    },
    {
     "name": "stdout",
     "output_type": "stream",
     "text": [
      "Profiling report saved to fraud_data_profiling_report_sample.html\n"
     ]
    }
   ],
   "source": [
    "# Import the profiling tool\n",
    "try:\n",
    "    from ydata_profiling import ProfileReport\n",
    "except ImportError:\n",
    "    try:\n",
    "        from pandas_profiling import ProfileReport\n",
    "    except ImportError:\n",
    "        print(\"ERROR: Neither ydata-profiling nor pandas-profiling seem to be installed.\")\n",
    "        print(\"Please run: pip install ydata-profiling\")\n",
    "        raise # Stop if library isn't installed\n",
    "\n",
    "print(\"\\nGenerating data profiling report on the SAMPLE... (This might take a minute or two)\")\n",
    "\n",
    "# Create the report object using the SAMPLE DataFrame 'df'\n",
    "profile = ProfileReport(df, title=\"Fraud Data Profiling Report (Sample)\", explorative=True)\n",
    "\n",
    "# Define the filename for the HTML report\n",
    "report_filename = \"fraud_data_profiling_report_sample.html\"\n",
    "\n",
    "# Save the report to an HTML file\n",
    "profile.to_file(report_filename)\n",
    "\n",
    "print(f\"Profiling report saved to {report_filename}\")"
   ]
  },
  {
   "cell_type": "code",
   "execution_count": null,
   "id": "850fcbf0-0359-45d1-939e-94c97cf48915",
   "metadata": {},
   "outputs": [],
   "source": []
  }
 ],
 "metadata": {
  "kernelspec": {
   "display_name": "fraud-detection-env",
   "language": "python",
   "name": "fraud-detection-env"
  },
  "language_info": {
   "codemirror_mode": {
    "name": "ipython",
    "version": 3
   },
   "file_extension": ".py",
   "mimetype": "text/x-python",
   "name": "python",
   "nbconvert_exporter": "python",
   "pygments_lexer": "ipython3",
   "version": "3.11.9"
  }
 },
 "nbformat": 4,
 "nbformat_minor": 5
}
